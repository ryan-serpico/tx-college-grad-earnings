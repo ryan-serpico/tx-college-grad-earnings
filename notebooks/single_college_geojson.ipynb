{
 "cells": [
  {
   "attachments": {},
   "cell_type": "markdown",
   "metadata": {},
   "source": [
    "# Single college GEOJSON\n",
    "\n",
    "In this notebook I will create one GEOJSON file that contains all the points of the colleges in San Antonio."
   ]
  },
  {
   "cell_type": "code",
   "execution_count": 4,
   "metadata": {},
   "outputs": [],
   "source": [
    "import pandas as pd\n",
    "import geopandas as gpd"
   ]
  },
  {
   "cell_type": "code",
   "execution_count": 6,
   "metadata": {},
   "outputs": [],
   "source": [
    "# Import '../output/san_antonio/san_antonio_top_earning_majors.csv' with gpd.read_file()\n",
    "sa_colleges_gdf = gpd.read_file('../output/san_antonio/san_antonio_top_earning_majors.csv')"
   ]
  },
  {
   "cell_type": "code",
   "execution_count": 8,
   "metadata": {},
   "outputs": [],
   "source": [
    "# sa_colleges_gdf has one column titled \"LATITUDE\" and another titled \"LONGITUDE\". Combine all these points into a single column called \"geometry\" using the gpd.points_from_xy() function\n",
    "sa_colleges_gdf['geometry'] = gpd.points_from_xy(sa_colleges_gdf['LONGITUDE'], sa_colleges_gdf['LATITUDE'])\n",
    "\n",
    "# Drop the \"LATITUDE\" and \"LONGITUDE\" columns\n",
    "sa_colleges_gdf = sa_colleges_gdf.drop(['LATITUDE', 'LONGITUDE'], axis=1)\n",
    "\n",
    "# Save the GeoDataFrame as a GeoJSON file called '../output/san_antonio/san_antonio_top_earning_majors.geojson'\n",
    "sa_colleges_gdf.to_file('../output/san_antonio/san_antonio_top_earning_majors.geojson', driver='GeoJSON')\n"
   ]
  },
  {
   "attachments": {},
   "cell_type": "markdown",
   "metadata": {},
   "source": [
    "## Noodles"
   ]
  },
  {
   "cell_type": "code",
   "execution_count": 15,
   "metadata": {},
   "outputs": [
    {
     "data": {
      "text/html": [
       "<div>\n",
       "<style scoped>\n",
       "    .dataframe tbody tr th:only-of-type {\n",
       "        vertical-align: middle;\n",
       "    }\n",
       "\n",
       "    .dataframe tbody tr th {\n",
       "        vertical-align: top;\n",
       "    }\n",
       "\n",
       "    .dataframe thead th {\n",
       "        text-align: right;\n",
       "    }\n",
       "</style>\n",
       "<table border=\"1\" class=\"dataframe\">\n",
       "  <thead>\n",
       "    <tr style=\"text-align: right;\">\n",
       "      <th></th>\n",
       "      <th>osm_id</th>\n",
       "      <th>isced_level</th>\n",
       "      <th>name</th>\n",
       "      <th>amenity</th>\n",
       "      <th>capacity</th>\n",
       "      <th>version</th>\n",
       "      <th>tags</th>\n",
       "      <th>changeset</th>\n",
       "      <th>timestamp</th>\n",
       "      <th>geometry</th>\n",
       "    </tr>\n",
       "  </thead>\n",
       "  <tbody>\n",
       "    <tr>\n",
       "      <th>5</th>\n",
       "      <td>593227006</td>\n",
       "      <td>NaN</td>\n",
       "      <td>NaN</td>\n",
       "      <td>NaN</td>\n",
       "      <td>NaN</td>\n",
       "      <td>1.0</td>\n",
       "      <td>{'name': 'Trinity University', 'amenity': 'uni...</td>\n",
       "      <td>59498518.0</td>\n",
       "      <td>2018-06-03 04:16:16</td>\n",
       "      <td>POLYGON ((-98.48698 29.45868, -98.48605 29.458...</td>\n",
       "    </tr>\n",
       "  </tbody>\n",
       "</table>\n",
       "</div>"
      ],
      "text/plain": [
       "      osm_id  isced_level name amenity  capacity  version  \\\n",
       "5  593227006          NaN  NaN     NaN       NaN      1.0   \n",
       "\n",
       "                                                tags   changeset  \\\n",
       "5  {'name': 'Trinity University', 'amenity': 'uni...  59498518.0   \n",
       "\n",
       "            timestamp                                           geometry  \n",
       "5 2018-06-03 04:16:16  POLYGON ((-98.48698 29.45868, -98.48605 29.458...  "
      ]
     },
     "execution_count": 15,
     "metadata": {},
     "output_type": "execute_result"
    }
   ],
   "source": [
    "san_antonio_college_shapes_gdf = gpd.read_file('../data/San-Antonio-Colleges-and-Universities_e1023d21-6289-48da-b4b7-ca30017da2b3_GeoJSON.geojson')\n",
    "\n",
    "# # Filter san_antonio_college_shapes_gdf to only include rows where osm_id is equal to 593227006. Export the result to a new GeoDataFrame called trinity_college_gdf\n",
    "\n",
    "trinity_college_gdf = san_antonio_college_shapes_gdf[san_antonio_college_shapes_gdf['osm_id'] == 593227006]\n",
    "\n",
    "# Save trinity_college_gdf as a GeoJSON file called '../output/trinity_college_gdf.geojson'\n",
    "\n",
    "trinity_college_gdf.to_file('../output/san_antonio/trinity_college.geojson', driver='GeoJSON')\n",
    "\n",
    "trinity_college_gdf"
   ]
  }
 ],
 "metadata": {
  "kernelspec": {
   "display_name": "venv",
   "language": "python",
   "name": "python3"
  },
  "language_info": {
   "codemirror_mode": {
    "name": "ipython",
    "version": 3
   },
   "file_extension": ".py",
   "mimetype": "text/x-python",
   "name": "python",
   "nbconvert_exporter": "python",
   "pygments_lexer": "ipython3",
   "version": "3.10.6"
  },
  "orig_nbformat": 4
 },
 "nbformat": 4,
 "nbformat_minor": 2
}
