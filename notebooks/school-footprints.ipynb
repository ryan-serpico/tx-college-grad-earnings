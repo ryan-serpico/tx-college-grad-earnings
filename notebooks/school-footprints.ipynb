{
 "cells": [
  {
   "attachments": {},
   "cell_type": "markdown",
   "metadata": {},
   "source": [
    "# School footprints"
   ]
  },
  {
   "cell_type": "code",
   "execution_count": 1,
   "metadata": {},
   "outputs": [],
   "source": [
    "import os\n",
    "\n",
    "import pandas as pd\n",
    "import geopandas as gpd"
   ]
  },
  {
   "cell_type": "code",
   "execution_count": 2,
   "metadata": {},
   "outputs": [],
   "source": [
    "# If the folder \"/output/san_antonio/footprints\" does not exist, create it\n",
    "if not os.path.exists(\"../output/san_antonio/footprints\"):\n",
    "    os.makedirs(\"../output/san_antonio/footprints\")"
   ]
  },
  {
   "cell_type": "code",
   "execution_count": 3,
   "metadata": {},
   "outputs": [
    {
     "name": "stdout",
     "output_type": "stream",
     "text": [
      "Concorde Career College - San Antonio\n",
      "Mexican American Catholic College\n",
      "Northeast Lakeview College\n",
      "Trinity University\n",
      "Palo Alto College\n",
      "Physical Plant\n",
      "Universidad Nacional Autonoma de Mexico (UNAM) - USA\n",
      "Saint Philip's College - Southwest Campus\n",
      "Loftin Student Center\n",
      "Scobee Planetarium\n",
      "Department of Combat Medic Training\n",
      "Chemistry and Geology\n",
      "Nursing and Allied Health Complex\n",
      "Nail Technical Center\n",
      "St. Mary's University\n",
      "Our Lady of the Lake University\n",
      "Saint Philip's College - MLK Campus\n",
      "San Antonio College\n",
      "McCreless Hall\n",
      "Gonzales Hall\n",
      "Northwest Vista College\n",
      "The College of Health Care Professions\n",
      "University of Texas Health Science Center at San Antonio - Long Campus\n",
      "Oblate School of Theology\n",
      "University of Texas Health Science Center San Antonio - Greehey Campus\n",
      "Southern Careers Institute\n",
      "University of Texas Health Science Center Texas Research Park Campus\n",
      "Texas A&M University - San Antonio\n",
      "University of the Incarnate Word\n",
      "The University of Texas at San Antonio\n",
      "The University of Texas at San Antonio - Downtown Campus\n"
     ]
    }
   ],
   "source": [
    "san_antonio_college_shapes_gdf = gpd.read_file('../data/San-Antonio-Colleges-and-Universities_e1023d21-6289-48da-b4b7-ca30017da2b3_GeoJSON.geojson')\n",
    "\n",
    "san_antonio_college_shapes_gdf\n",
    "\n",
    "# Loop through each row in san_antonio_college_shapes_gdf and save each row as a GeoJSON file in the folder \"../output/san_antonio/footprints\"\n",
    "\n",
    "for index, row in san_antonio_college_shapes_gdf.iterrows():\n",
    "    # If the \"geometry\" is a point, skip it\n",
    "    if row['geometry'].geom_type == 'Point':\n",
    "        continue\n",
    "    # If the \"geometry\" is a polygon or a multipolygon, save it as a GeoJSON file\n",
    "    elif row['geometry'].geom_type == 'Polygon' or row['geometry'].geom_type == 'MultiPolygon':\n",
    "        # Print the content of the tags column\n",
    "        print(row['tags']['name'])\n",
    "        college_name = row['tags']['name']\n",
    "\n",
    "        # replace spaces with underscores\n",
    "        college_name = college_name.replace(' ', '_')\n",
    "\n",
    "        # Create a new GeoDataFrame with the current row\n",
    "        gdf = gpd.GeoDataFrame(row).T\n",
    "        # # Save the GeoDataFrame as a GeoJSON file\n",
    "        gdf.to_file('../output/san_antonio/footprints/' + college_name + '.geojson', driver='GeoJSON')"
   ]
  }
 ],
 "metadata": {
  "kernelspec": {
   "display_name": "venv",
   "language": "python",
   "name": "python3"
  },
  "language_info": {
   "codemirror_mode": {
    "name": "ipython",
    "version": 3
   },
   "file_extension": ".py",
   "mimetype": "text/x-python",
   "name": "python",
   "nbconvert_exporter": "python",
   "pygments_lexer": "ipython3",
   "version": "3.10.6"
  },
  "orig_nbformat": 4
 },
 "nbformat": 4,
 "nbformat_minor": 2
}
